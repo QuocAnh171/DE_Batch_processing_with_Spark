{
 "cells": [
  {
   "cell_type": "code",
   "execution_count": 1,
   "id": "d855aa01",
   "metadata": {},
   "outputs": [],
   "source": [
    "import findspark\n",
    "findspark.init('C:\\spark-3.4.0-bin-hadoop3')\n",
    "import pyspark\n",
    "from pyspark.sql import SparkSession\n",
    "from pyspark.sql import types\n",
    "import pandas as pd\n",
    "spark = SparkSession.builder \\\n",
    "    .master(\"local[*]\") \\\n",
    "    .appName('test') \\\n",
    "    .getOrCreate()"
   ]
  },
  {
   "cell_type": "code",
   "execution_count": 4,
   "id": "26e20b7b",
   "metadata": {},
   "outputs": [],
   "source": [
    "df_zone_schema = types.StructType([\n",
    "    types.StructField(\"LocationID\",types.IntegerType(),True),\n",
    "    types.StructField(\"Borough\",types.StringType(),True),\n",
    "    types.StructField(\"Zone\",types.StringType(),True),\n",
    "    types.StructField(\"service_zone\",types.StringType(),True),\n",
    "])\n",
    "df_zone_lookup = spark.read \\\n",
    "        .option(\"header\", \"true\") \\\n",
    "        .schema(df_zone_schema) \\\n",
    "        .csv('file/zone_lookup.csv')"
   ]
  },
  {
   "cell_type": "code",
   "execution_count": 6,
   "id": "0ff443db",
   "metadata": {},
   "outputs": [],
   "source": [
    "df_green = spark.read.options(inferSchema = 'True', header = 'True').csv('file\\green_tripdata_2021-01.csv')\n",
    "df_yellow = spark.read.options(inferSchema = 'True', header = 'True').csv('file\\yellow_tripdata_2021-01.csv')\n",
    "\n",
    "df_green.createOrReplaceTempView ('taxi_green')\n",
    "df_yellow.createOrReplaceTempView ('taxi_yellow')\n",
    "\n",
    "df_zone_lookup.createOrReplaceTempView('zone_lookup')"
   ]
  },
  {
   "cell_type": "code",
   "execution_count": 7,
   "id": "04c125f5",
   "metadata": {},
   "outputs": [
    {
     "name": "stdout",
     "output_type": "stream",
     "text": [
      "+----------+-------------+--------------------+------------+\n",
      "|LocationID|      Borough|                Zone|service_zone|\n",
      "+----------+-------------+--------------------+------------+\n",
      "|         1|          EWR|      Newark Airport|         EWR|\n",
      "|         2|       Queens|         Jamaica Bay|   Boro Zone|\n",
      "|         3|        Bronx|Allerton/Pelham G...|   Boro Zone|\n",
      "|         4|    Manhattan|       Alphabet City| Yellow Zone|\n",
      "|         5|Staten Island|       Arden Heights|   Boro Zone|\n",
      "|         6|Staten Island|Arrochar/Fort Wad...|   Boro Zone|\n",
      "|         7|       Queens|             Astoria|   Boro Zone|\n",
      "|         8|       Queens|        Astoria Park|   Boro Zone|\n",
      "|         9|       Queens|          Auburndale|   Boro Zone|\n",
      "|        10|       Queens|        Baisley Park|   Boro Zone|\n",
      "|        11|     Brooklyn|          Bath Beach|   Boro Zone|\n",
      "|        12|    Manhattan|        Battery Park| Yellow Zone|\n",
      "|        13|    Manhattan|   Battery Park City| Yellow Zone|\n",
      "|        14|     Brooklyn|           Bay Ridge|   Boro Zone|\n",
      "|        15|       Queens|Bay Terrace/Fort ...|   Boro Zone|\n",
      "|        16|       Queens|             Bayside|   Boro Zone|\n",
      "|        17|     Brooklyn|             Bedford|   Boro Zone|\n",
      "|        18|        Bronx|        Bedford Park|   Boro Zone|\n",
      "|        19|       Queens|           Bellerose|   Boro Zone|\n",
      "|        20|        Bronx|             Belmont|   Boro Zone|\n",
      "+----------+-------------+--------------------+------------+\n",
      "only showing top 20 rows\n",
      "\n"
     ]
    }
   ],
   "source": [
    "df_zone_lookup.show()"
   ]
  },
  {
   "cell_type": "code",
   "execution_count": 8,
   "id": "5ceaf9f5",
   "metadata": {},
   "outputs": [
    {
     "name": "stdout",
     "output_type": "stream",
     "text": [
      "root\n",
      " |-- LocationID: integer (nullable = true)\n",
      " |-- Borough: string (nullable = true)\n",
      " |-- Zone: string (nullable = true)\n",
      " |-- service_zone: string (nullable = true)\n",
      "\n",
      "root\n",
      " |-- VendorID: integer (nullable = true)\n",
      " |-- lpep_pickup_datetime: timestamp (nullable = true)\n",
      " |-- lpep_dropoff_datetime: timestamp (nullable = true)\n",
      " |-- store_and_fwd_flag: string (nullable = true)\n",
      " |-- RatecodeID: integer (nullable = true)\n",
      " |-- PULocationID: integer (nullable = true)\n",
      " |-- DOLocationID: integer (nullable = true)\n",
      " |-- passenger_count: integer (nullable = true)\n",
      " |-- trip_distance: double (nullable = true)\n",
      " |-- fare_amount: double (nullable = true)\n",
      " |-- extra: double (nullable = true)\n",
      " |-- mta_tax: double (nullable = true)\n",
      " |-- tip_amount: double (nullable = true)\n",
      " |-- tolls_amount: double (nullable = true)\n",
      " |-- ehail_fee: string (nullable = true)\n",
      " |-- improvement_surcharge: double (nullable = true)\n",
      " |-- total_amount: double (nullable = true)\n",
      " |-- payment_type: integer (nullable = true)\n",
      " |-- trip_type: integer (nullable = true)\n",
      " |-- congestion_surcharge: double (nullable = true)\n",
      "\n"
     ]
    }
   ],
   "source": [
    "df_zone_lookup.printSchema()\n",
    "df_green.printSchema()"
   ]
  },
  {
   "cell_type": "code",
   "execution_count": 9,
   "id": "54000adf",
   "metadata": {},
   "outputs": [],
   "source": [
    "df_green_revenue = spark.sql(\"\"\"\n",
    "SELECT \n",
    "    date_trunc('hour', tg.lpep_pickup_datetime) AS hour, \n",
    "    tg.PULocationID AS zoneIDPU,\n",
    "    zl.Zone AS zone_name_PU,\n",
    "    tg.DOLocationID AS zoneIDDO,\n",
    "    zl1.Zone AS zone_name_DO,\n",
    "    SUM(tg.total_amount) AS amount,\n",
    "    COUNT(1) AS number_records\n",
    "FROM\n",
    "    taxi_green tg\n",
    "    Left JOIN zone_lookup zl\n",
    "    on tg.PULocationID = zl.LocationID  \n",
    "    Left JOIN zone_lookup zl1\n",
    "    on tg.DOLocationID = zl1.LocationID \n",
    "    \n",
    "where tg.lpep_pickup_datetime >= '2020-01-01 00:00:00'\n",
    "\n",
    "GROUP BY\n",
    "    hour, zoneIDPU,zoneIDDO,zone_name_PU,zone_name_DO\n",
    "    \n",
    "Order by hour asc\n",
    "\"\"\")"
   ]
  },
  {
   "cell_type": "code",
   "execution_count": 10,
   "id": "1bc700d5",
   "metadata": {},
   "outputs": [
    {
     "name": "stdout",
     "output_type": "stream",
     "text": [
      "+-------------------+--------+--------------------+--------+--------------------+------+--------------+\n",
      "|               hour|zoneIDPU|        zone_name_PU|zoneIDDO|        zone_name_DO|amount|number_records|\n",
      "+-------------------+--------+--------------------+--------+--------------------+------+--------------+\n",
      "|2020-12-31 23:00:00|     168|Mott Haven/Port M...|      75|   East Harlem South|   9.3|             1|\n",
      "|2021-01-01 00:00:00|      76|       East New York|     108|           Gravesend| 36.01|             1|\n",
      "|2021-01-01 00:00:00|     259|  Woodlawn/Wakefield|     116|    Hamilton Heights|  29.0|             1|\n",
      "|2021-01-01 00:00:00|      42|Central Harlem North|      41|      Central Harlem|   7.3|             1|\n",
      "|2021-01-01 00:00:00|      47|  Claremont/Bathgate|      51|          Co-Op City| 36.71|             1|\n",
      "|2021-01-01 00:00:00|     165|             Midwood|      21|    Bensonhurst East| 22.87|             1|\n",
      "|2021-01-01 00:00:00|     225|  Stuyvesant Heights|     225|  Stuyvesant Heights|   3.8|             1|\n",
      "|2021-01-01 00:00:00|      74|   East Harlem North|      74|   East Harlem North|   6.3|             1|\n",
      "|2021-01-01 00:00:00|      17|             Bedford|     107|            Gramercy| 36.94|             1|\n",
      "|2021-01-01 00:00:00|     247|      West Concourse|      51|          Co-Op City| 30.32|             1|\n",
      "|2021-01-01 00:00:00|      43|        Central Park|     151|    Manhattan Valley|   6.8|             1|\n",
      "|2021-01-01 00:00:00|      82|            Elmhurst|      82|            Elmhurst|  11.8|             1|\n",
      "|2021-01-01 00:00:00|      75|   East Harlem South|     213|Soundview/Castle ...|  20.8|             1|\n",
      "|2021-01-01 00:00:00|     265|                  NA|     265|                  NA|216.36|             3|\n",
      "|2021-01-01 00:00:00|      74|   East Harlem North|      60|   Crotona Park East|  19.3|             1|\n",
      "|2021-01-01 00:00:00|      75|   East Harlem South|      75|   East Harlem South|  5.76|             1|\n",
      "|2021-01-01 00:00:00|     225|  Stuyvesant Heights|     265|                  NA| 42.05|             1|\n",
      "|2021-01-01 00:00:00|      74|   East Harlem North|     119|          Highbridge| 15.36|             1|\n",
      "|2021-01-01 00:00:00|       7|             Astoria|     216|    South Ozone Park| 48.17|             1|\n",
      "|2021-01-01 00:00:00|     152|      Manhattanville|     117|     Hammels/Arverne| 84.92|             1|\n",
      "+-------------------+--------+--------------------+--------+--------------------+------+--------------+\n",
      "only showing top 20 rows\n",
      "\n"
     ]
    }
   ],
   "source": [
    "df_green_revenue.show()"
   ]
  },
  {
   "cell_type": "code",
   "execution_count": 11,
   "id": "4b01041d",
   "metadata": {},
   "outputs": [],
   "source": [
    "df_yellow_revenue = spark.sql(\"\"\"\n",
    "SELECT \n",
    "    date_trunc('hour', ty.tpep_pickup_datetime) AS hour, \n",
    "    ty.PULocationID AS zoneIDPU,\n",
    "    zl.Zone AS zone_name_PU,\n",
    "    ty.DOLocationID AS zoneIDDO,\n",
    "    zl1.Zone AS zone_name_DO,\n",
    "    SUM(ty.total_amount) AS amount,\n",
    "    COUNT(1) AS number_records\n",
    "FROM\n",
    "    taxi_yellow ty\n",
    "    Left JOIN zone_lookup zl\n",
    "    on ty.PULocationID = zl.LocationID  \n",
    "    Left JOIN zone_lookup zl1\n",
    "On ty.DOLocationID = zl1.LocationID \n",
    "\n",
    "where ty.tpep_pickup_datetime >= '2020-01-01 00:00:00'\n",
    "\n",
    "GROUP BY\n",
    "    hour, zoneIDPU,zoneIDDO,zone_name_PU,zone_name_DO\n",
    "Order by hour \n",
    "\"\"\")"
   ]
  },
  {
   "cell_type": "code",
   "execution_count": 12,
   "id": "d2138323",
   "metadata": {},
   "outputs": [
    {
     "name": "stdout",
     "output_type": "stream",
     "text": [
      "+-------------------+--------+--------------------+--------+--------------------+------+--------------+\n",
      "|               hour|zoneIDPU|        zone_name_PU|zoneIDDO|        zone_name_DO|amount|number_records|\n",
      "+-------------------+--------+--------------------+--------+--------------------+------+--------------+\n",
      "|2020-12-31 13:00:00|     170|         Murray Hill|     226|           Sunnyside| 20.38|             1|\n",
      "|2020-12-31 18:00:00|      90|            Flatiron|     229|Sutton Place/Turt...| 16.56|             1|\n",
      "|2020-12-31 18:00:00|     142| Lincoln Square East|      68|        East Chelsea|  14.3|             1|\n",
      "|2020-12-31 18:00:00|      48|        Clinton East|     239|Upper West Side S...| 14.04|             1|\n",
      "|2020-12-31 18:00:00|      48|        Clinton East|     238|Upper West Side N...|  12.8|             1|\n",
      "|2020-12-31 18:00:00|      48|        Clinton East|     243|Washington Height...|  28.3|             1|\n",
      "|2020-12-31 18:00:00|     142| Lincoln Square East|     233| UN/Turtle Bay South| 17.16|             1|\n",
      "|2020-12-31 21:00:00|     249|        West Village|     213|Soundview/Castle ...|  53.3|             1|\n",
      "|2020-12-31 21:00:00|      75|   East Harlem South|      74|   East Harlem North|   5.3|             1|\n",
      "|2020-12-31 21:00:00|     263|      Yorkville West|      74|   East Harlem North|  12.8|             1|\n",
      "|2020-12-31 23:00:00|      42|Central Harlem North|     137|            Kips Bay|  24.8|             1|\n",
      "|2020-12-31 23:00:00|     231|TriBeCa/Civic Center|      17|             Bedford|  28.3|             1|\n",
      "|2020-12-31 23:00:00|     237|Upper East Side S...|     236|Upper East Side N...| 10.56|             1|\n",
      "|2020-12-31 23:00:00|     137|            Kips Bay|      79|        East Village| 14.12|             1|\n",
      "|2020-12-31 23:00:00|      43|        Central Park|     200|Riverdale/North R...|  43.1|             1|\n",
      "|2020-12-31 23:00:00|     163|       Midtown North|     166| Morningside Heights| 23.76|             1|\n",
      "|2021-01-01 00:00:00|     142| Lincoln Square East|      68|        East Chelsea|  16.6|             1|\n",
      "|2021-01-01 00:00:00|     100|    Garment District|     229|Sutton Place/Turt...|  24.1|             2|\n",
      "|2021-01-01 00:00:00|     140|     Lenox Hill East|      17|             Bedford| 43.92|             1|\n",
      "|2021-01-01 00:00:00|      43|        Central Park|     170|         Murray Hill|  13.3|             1|\n",
      "+-------------------+--------+--------------------+--------+--------------------+------+--------------+\n",
      "only showing top 20 rows\n",
      "\n"
     ]
    }
   ],
   "source": [
    "df_yellow_revenue.show()"
   ]
  },
  {
   "cell_type": "code",
   "execution_count": 14,
   "id": "02534ead",
   "metadata": {},
   "outputs": [],
   "source": [
    "df_green_revenue_tmp = df_green_revenue \\\n",
    "    .withColumnRenamed('amount', 'green_amount') \\\n",
    "    .withColumnRenamed('number_records', 'green_number_records')\n",
    "\n",
    "df_yellow_revenue_tmp = df_yellow_revenue \\\n",
    "    .withColumnRenamed('amount', 'yellow_amount') \\\n",
    "    .withColumnRenamed('number_records', 'yellow_number_records')"
   ]
  },
  {
   "cell_type": "code",
   "execution_count": 15,
   "id": "b9ea74a3",
   "metadata": {},
   "outputs": [],
   "source": [
    "df_join = df_green_revenue_tmp.join(df_yellow_revenue_tmp, on=['hour', 'zoneIDPU'], how='outer')"
   ]
  },
  {
   "cell_type": "code",
   "execution_count": 16,
   "id": "ff5043da",
   "metadata": {},
   "outputs": [
    {
     "name": "stdout",
     "output_type": "stream",
     "text": [
      "+-------------------+--------+------------+--------+--------------------+------------+--------------------+--------------------+--------+--------------------+-------------+---------------------+\n",
      "|               hour|zoneIDPU|zone_name_PU|zoneIDDO|        zone_name_DO|green_amount|green_number_records|        zone_name_PU|zoneIDDO|        zone_name_DO|yellow_amount|yellow_number_records|\n",
      "+-------------------+--------+------------+--------+--------------------+------------+--------------------+--------------------+--------+--------------------+-------------+---------------------+\n",
      "|2020-12-31 13:00:00|     170|        null|    null|                null|        null|                null|         Murray Hill|     226|           Sunnyside|        20.38|                    1|\n",
      "|2020-12-31 18:00:00|     142|        null|    null|                null|        null|                null| Lincoln Square East|     233| UN/Turtle Bay South|        17.16|                    1|\n",
      "|2020-12-31 18:00:00|     142|        null|    null|                null|        null|                null| Lincoln Square East|      68|        East Chelsea|         14.3|                    1|\n",
      "|2020-12-31 21:00:00|     249|        null|    null|                null|        null|                null|        West Village|     213|Soundview/Castle ...|         53.3|                    1|\n",
      "|2020-12-31 23:00:00|      43|        null|    null|                null|        null|                null|        Central Park|     200|Riverdale/North R...|         43.1|                    1|\n",
      "|2020-12-31 23:00:00|     231|        null|    null|                null|        null|                null|TriBeCa/Civic Center|      17|             Bedford|         28.3|                    1|\n",
      "|2021-01-01 00:00:00|      13|        null|    null|                null|        null|                null|   Battery Park City|     233| UN/Turtle Bay South|         23.8|                    1|\n",
      "|2021-01-01 00:00:00|      13|        null|    null|                null|        null|                null|   Battery Park City|     141|     Lenox Hill West|         28.3|                    1|\n",
      "|2021-01-01 00:00:00|      13|        null|    null|                null|        null|                null|   Battery Park City|      48|        Clinton East|         21.8|                    1|\n",
      "|2021-01-01 00:00:00|      17|     Bedford|     107|            Gramercy|       36.94|                   1|             Bedford|     217|  South Williamsburg|         10.3|                    1|\n",
      "|2021-01-01 00:00:00|      17|     Bedford|     107|            Gramercy|       36.94|                   1|             Bedford|      61| Crown Heights North|         22.0|                    1|\n",
      "|2021-01-01 00:00:00|      17|     Bedford|     237|Upper East Side S...|       45.62|                   1|             Bedford|     217|  South Williamsburg|         10.3|                    1|\n",
      "|2021-01-01 00:00:00|      17|     Bedford|     237|Upper East Side S...|       45.62|                   1|             Bedford|      61| Crown Heights North|         22.0|                    1|\n",
      "|2021-01-01 00:00:00|      17|     Bedford|      17|             Bedford|       19.78|                   1|             Bedford|     217|  South Williamsburg|         10.3|                    1|\n",
      "|2021-01-01 00:00:00|      17|     Bedford|      17|             Bedford|       19.78|                   1|             Bedford|      61| Crown Heights North|         22.0|                    1|\n",
      "|2021-01-01 00:00:00|      49|        null|    null|                null|        null|                null|        Clinton Hill|      91|           Flatlands|        22.85|                    1|\n",
      "|2021-01-01 00:00:00|      49|        null|    null|                null|        null|                null|        Clinton Hill|      76|       East New York|         23.0|                    1|\n",
      "|2021-01-01 00:00:00|      49|        null|    null|                null|        null|                null|        Clinton Hill|      42|Central Harlem North|         50.0|                    1|\n",
      "|2021-01-01 00:00:00|      49|        null|    null|                null|        null|                null|        Clinton Hill|      69|East Concourse/Co...|        50.12|                    1|\n",
      "|2021-01-01 00:00:00|      49|        null|    null|                null|        null|                null|        Clinton Hill|     205|        Saint Albans|         52.4|                    1|\n",
      "+-------------------+--------+------------+--------+--------------------+------------+--------------------+--------------------+--------+--------------------+-------------+---------------------+\n",
      "only showing top 20 rows\n",
      "\n"
     ]
    }
   ],
   "source": [
    "df_join.show()"
   ]
  }
 ],
 "metadata": {
  "kernelspec": {
   "display_name": "Python 3 (ipykernel)",
   "language": "python",
   "name": "python3"
  },
  "language_info": {
   "codemirror_mode": {
    "name": "ipython",
    "version": 3
   },
   "file_extension": ".py",
   "mimetype": "text/x-python",
   "name": "python",
   "nbconvert_exporter": "python",
   "pygments_lexer": "ipython3",
   "version": "3.10.9"
  }
 },
 "nbformat": 4,
 "nbformat_minor": 5
}
