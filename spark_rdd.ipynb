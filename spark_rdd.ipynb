{
 "cells": [
  {
   "cell_type": "code",
   "execution_count": 23,
   "id": "5b6cd8d2",
   "metadata": {},
   "outputs": [],
   "source": [
    "import findspark\n",
    "findspark.init('C:\\spark-3.4.0-bin-hadoop3')\n",
    "import pyspark\n",
    "from pyspark.sql import SparkSession\n",
    "from pyspark.sql import types\n",
    "import pandas as pd\n",
    "spark = SparkSession.builder \\\n",
    "    .master(\"local[*]\") \\\n",
    "    .appName('test') \\\n",
    "    .getOrCreate()"
   ]
  },
  {
   "cell_type": "code",
   "execution_count": 24,
   "id": "99f8e04d",
   "metadata": {},
   "outputs": [],
   "source": [
    "df_green = spark.read.options(inferSchema = 'True', header = 'True').csv(\"file/green_tripdata_2021-01.csv\")"
   ]
  },
  {
   "cell_type": "code",
   "execution_count": 25,
   "id": "f9057ce6",
   "metadata": {},
   "outputs": [
    {
     "data": {
      "text/plain": [
       "MapPartitionsRDD[92] at javaToPython at NativeMethodAccessorImpl.java:0"
      ]
     },
     "execution_count": 25,
     "metadata": {},
     "output_type": "execute_result"
    }
   ],
   "source": [
    "df_green.rdd"
   ]
  },
  {
   "cell_type": "code",
   "execution_count": 26,
   "id": "d7951a17",
   "metadata": {},
   "outputs": [],
   "source": [
    "rdd_green = df_green.select('lpep_pickup_datetime', 'PULocationID', 'total_amount').rdd"
   ]
  },
  {
   "cell_type": "code",
   "execution_count": 27,
   "id": "518b2d60",
   "metadata": {},
   "outputs": [],
   "source": [
    "from datetime import datetime\n",
    "start = datetime(year=2021, month=1, day=1)\n",
    "def filter_outliers(row):\n",
    "    return row.lpep_pickup_datetime >= start"
   ]
  },
  {
   "cell_type": "code",
   "execution_count": 28,
   "id": "0c3f98dc",
   "metadata": {},
   "outputs": [
    {
     "data": {
      "text/plain": [
       "[Row(lpep_pickup_datetime=datetime.datetime(2021, 1, 1, 0, 15, 56), PULocationID=43, total_amount=6.8),\n",
       " Row(lpep_pickup_datetime=datetime.datetime(2021, 1, 1, 0, 25, 59), PULocationID=166, total_amount=16.86),\n",
       " Row(lpep_pickup_datetime=datetime.datetime(2021, 1, 1, 0, 45, 57), PULocationID=41, total_amount=8.3),\n",
       " Row(lpep_pickup_datetime=datetime.datetime(2020, 12, 31, 23, 57, 51), PULocationID=168, total_amount=9.3),\n",
       " Row(lpep_pickup_datetime=datetime.datetime(2021, 1, 1, 0, 16, 36), PULocationID=265, total_amount=-52.8)]"
      ]
     },
     "execution_count": 28,
     "metadata": {},
     "output_type": "execute_result"
    }
   ],
   "source": [
    "rdd_green.take(5)"
   ]
  },
  {
   "cell_type": "code",
   "execution_count": 29,
   "id": "e13d3fae",
   "metadata": {},
   "outputs": [
    {
     "data": {
      "text/plain": [
       "[Row(lpep_pickup_datetime=datetime.datetime(2021, 1, 1, 0, 15, 56), PULocationID=43, total_amount=6.8)]"
      ]
     },
     "execution_count": 29,
     "metadata": {},
     "output_type": "execute_result"
    }
   ],
   "source": [
    "rdd_green.filter(lambda row: row.lpep_pickup_datetime >= start ).take(1)"
   ]
  },
  {
   "cell_type": "code",
   "execution_count": 30,
   "id": "ccc950bb",
   "metadata": {},
   "outputs": [],
   "source": [
    "def prepare_for_grouping(row): \n",
    "    hour = row.lpep_pickup_datetime.replace(minute=0, second=0, microsecond=0)\n",
    "    zone = row.PULocationID\n",
    "    key = (hour, zone)\n",
    "    \n",
    "    amount = row.total_amount\n",
    "    count = 1\n",
    "    value = (amount, count)\n",
    "\n",
    "    return (key, value)"
   ]
  },
  {
   "cell_type": "code",
   "execution_count": 31,
   "id": "8470406b",
   "metadata": {},
   "outputs": [
    {
     "data": {
      "text/plain": [
       "[((datetime.datetime(2021, 1, 1, 0, 0), 43), (6.8, 1)),\n",
       " ((datetime.datetime(2021, 1, 1, 0, 0), 166), (16.86, 1)),\n",
       " ((datetime.datetime(2021, 1, 1, 0, 0), 41), (8.3, 1)),\n",
       " ((datetime.datetime(2021, 1, 1, 0, 0), 265), (-52.8, 1)),\n",
       " ((datetime.datetime(2021, 1, 1, 0, 0), 265), (52.8, 1)),\n",
       " ((datetime.datetime(2021, 1, 1, 0, 0), 265), (216.36, 1)),\n",
       " ((datetime.datetime(2021, 1, 1, 0, 0), 75), (5.76, 1)),\n",
       " ((datetime.datetime(2021, 1, 1, 0, 0), 225), (3.8, 1)),\n",
       " ((datetime.datetime(2021, 1, 1, 0, 0), 225), (42.05, 1)),\n",
       " ((datetime.datetime(2021, 1, 1, 0, 0), 244), (19.3, 1))]"
      ]
     },
     "execution_count": 31,
     "metadata": {},
     "output_type": "execute_result"
    }
   ],
   "source": [
    "rdd_green \\\n",
    "    .filter(filter_outliers) \\\n",
    "    .map(prepare_for_grouping) \\\n",
    "    .take(10)"
   ]
  },
  {
   "cell_type": "code",
   "execution_count": 32,
   "id": "ed5ac9fd",
   "metadata": {},
   "outputs": [],
   "source": [
    "def calculate_revenue(left_value, right_value):\n",
    "    left_amount, left_count = left_value\n",
    "    right_amount, right_count = right_value\n",
    "    \n",
    "    output_amount = left_amount + right_amount\n",
    "    output_count = left_count + right_count\n",
    "    \n",
    "    return (output_amount, output_count)"
   ]
  },
  {
   "cell_type": "code",
   "execution_count": 33,
   "id": "a0cae8d3",
   "metadata": {},
   "outputs": [
    {
     "data": {
      "text/plain": [
       "[((datetime.datetime(2021, 1, 1, 0, 0), 43), (6.8, 1)),\n",
       " ((datetime.datetime(2021, 1, 1, 0, 0), 41), (8.3, 1)),\n",
       " ((datetime.datetime(2021, 1, 1, 0, 0), 265), (216.36, 3)),\n",
       " ((datetime.datetime(2021, 1, 1, 0, 0), 75), (34.36, 3)),\n",
       " ((datetime.datetime(2021, 1, 1, 0, 0), 225), (85.41, 4)),\n",
       " ((datetime.datetime(2021, 1, 1, 0, 0), 7), (61.47, 2)),\n",
       " ((datetime.datetime(2021, 1, 1, 0, 0), 259), (29.0, 1)),\n",
       " ((datetime.datetime(2021, 1, 1, 0, 0), 247), (37.12, 2)),\n",
       " ((datetime.datetime(2021, 1, 1, 0, 0), 17), (102.34, 3)),\n",
       " ((datetime.datetime(2021, 1, 1, 1, 0), 152), (14.55, 1))]"
      ]
     },
     "execution_count": 33,
     "metadata": {},
     "output_type": "execute_result"
    }
   ],
   "source": [
    "rdd_green \\\n",
    "    .filter(filter_outliers) \\\n",
    "    .map(prepare_for_grouping) \\\n",
    "    .reduceByKey(calculate_revenue)\\\n",
    "    .take(10)"
   ]
  },
  {
   "cell_type": "code",
   "execution_count": 38,
   "id": "7b31fdb5",
   "metadata": {},
   "outputs": [
    {
     "data": {
      "text/plain": [
       "pyspark.rdd.RDD"
      ]
     },
     "execution_count": 38,
     "metadata": {},
     "output_type": "execute_result"
    }
   ],
   "source": [
    "type(rdd_green)"
   ]
  },
  {
   "cell_type": "code",
   "execution_count": 39,
   "id": "5bfc4a8e",
   "metadata": {},
   "outputs": [],
   "source": [
    "from collections import namedtuple"
   ]
  },
  {
   "cell_type": "code",
   "execution_count": 40,
   "id": "c1a58e02",
   "metadata": {},
   "outputs": [],
   "source": [
    "RevenueRow = namedtuple('Revenue_green', ['hour', 'zone', 'revenue', 'count'])"
   ]
  },
  {
   "cell_type": "code",
   "execution_count": 41,
   "id": "af0b116f",
   "metadata": {},
   "outputs": [],
   "source": [
    "def unwrap(row):\n",
    "    return RevenueRow(\n",
    "        hour=row[0][0], \n",
    "        zone=row[0][1],\n",
    "        revenue=row[1][0],\n",
    "        count=row[1][1]\n",
    "    )"
   ]
  },
  {
   "cell_type": "code",
   "execution_count": 42,
   "id": "b3f3a82e",
   "metadata": {},
   "outputs": [],
   "source": [
    "from pyspark.sql import types"
   ]
  },
  {
   "cell_type": "code",
   "execution_count": 43,
   "id": "b510173e",
   "metadata": {},
   "outputs": [],
   "source": [
    "green_revenue_schema = types.StructType([\n",
    "    types.StructField('hour', types.TimestampType(), True),\n",
    "    types.StructField('zone', types.IntegerType(), True),\n",
    "    types.StructField('revenue', types.DoubleType(), True),\n",
    "    types.StructField('count', types.IntegerType(), True)\n",
    "])"
   ]
  },
  {
   "cell_type": "code",
   "execution_count": 44,
   "id": "4594035e",
   "metadata": {},
   "outputs": [],
   "source": [
    "DF_green_revenue = rdd_green \\\n",
    "    .filter(filter_outliers) \\\n",
    "    .map(prepare_for_grouping) \\\n",
    "    .reduceByKey(calculate_revenue)\\\n",
    "    .map(unwrap)\\\n",
    "    .toDF(green_revenue_schema)"
   ]
  },
  {
   "cell_type": "code",
   "execution_count": 45,
   "id": "b949fa1a",
   "metadata": {},
   "outputs": [
    {
     "name": "stdout",
     "output_type": "stream",
     "text": [
      "+-------------------+----+------------------+-----+\n",
      "|               hour|zone|           revenue|count|\n",
      "+-------------------+----+------------------+-----+\n",
      "|2021-01-01 00:00:00|  43|               6.8|    1|\n",
      "|2021-01-01 00:00:00|  41|               8.3|    1|\n",
      "|2021-01-01 00:00:00| 265|            216.36|    3|\n",
      "|2021-01-01 00:00:00|  75|             34.36|    3|\n",
      "|2021-01-01 00:00:00| 225|             85.41|    4|\n",
      "|2021-01-01 00:00:00|   7|             61.47|    2|\n",
      "|2021-01-01 00:00:00| 259|              29.0|    1|\n",
      "|2021-01-01 00:00:00| 247|             37.12|    2|\n",
      "|2021-01-01 00:00:00|  17|            102.34|    3|\n",
      "|2021-01-01 01:00:00| 152|             14.55|    1|\n",
      "|2021-01-01 01:00:00|  42|             37.89|    2|\n",
      "|2021-01-01 01:00:00| 236|               5.8|    1|\n",
      "|2021-01-01 01:00:00| 244|             14.76|    1|\n",
      "|2021-01-01 01:00:00| 166|              9.36|    1|\n",
      "|2021-01-01 01:00:00|  14|               7.8|    1|\n",
      "|2021-01-01 01:00:00|  74|              31.6|    2|\n",
      "|2021-01-01 02:00:00|  74|42.849999999999994|    2|\n",
      "|2021-01-01 02:00:00| 168|              10.3|    1|\n",
      "|2021-01-01 02:00:00| 256|             32.35|    2|\n",
      "|2021-01-01 02:00:00|  28|              13.8|    1|\n",
      "+-------------------+----+------------------+-----+\n",
      "only showing top 20 rows\n",
      "\n"
     ]
    }
   ],
   "source": [
    "DF_green_revenue.show()"
   ]
  },
  {
   "cell_type": "code",
   "execution_count": 48,
   "id": "b78cdea5",
   "metadata": {},
   "outputs": [],
   "source": [
    "df_green_partition = spark.read.options(inferSchema = 'True', header = 'True').csv(\"file/green_tripdata_2021-01.csv\")\n",
    "# df_green_partition = df_green.repartition(3) chia partition"
   ]
  },
  {
   "cell_type": "code",
   "execution_count": 49,
   "id": "3dd81095",
   "metadata": {},
   "outputs": [],
   "source": [
    "columns = ['VendorID', 'lpep_pickup_datetime', 'PULocationID', 'DOLocationID', 'trip_distance']\n",
    "\n",
    "rdd = df_green_partition \\\n",
    "    .select(columns) \\\n",
    "    .rdd"
   ]
  },
  {
   "cell_type": "code",
   "execution_count": 50,
   "id": "372e95e5",
   "metadata": {},
   "outputs": [],
   "source": [
    "import pandas as pd"
   ]
  },
  {
   "cell_type": "code",
   "execution_count": 51,
   "id": "6715f185",
   "metadata": {},
   "outputs": [],
   "source": [
    "def model_predict(df):\n",
    "    time = round(df.trip_distance * 5,3)\n",
    "    return time"
   ]
  },
  {
   "cell_type": "code",
   "execution_count": 52,
   "id": "54664f0e",
   "metadata": {},
   "outputs": [],
   "source": [
    "def trip_distance_km(df):\n",
    "    trip_km = round(df.trip_distance * 1.609344,3)\n",
    "    return trip_km"
   ]
  },
  {
   "cell_type": "code",
   "execution_count": 53,
   "id": "959ad6a0",
   "metadata": {},
   "outputs": [],
   "source": [
    "def time_prediction(rows):\n",
    "    df = pd.DataFrame(rows, columns=columns)\n",
    "    predictions = model_predict(df)\n",
    "    trip_km = trip_distance_km(df)\n",
    "    df['time_taxi_prediction'] = predictions\n",
    "    df['trip_km'] = trip_km\n",
    "    for row in df.itertuples():\n",
    "        yield row"
   ]
  },
  {
   "cell_type": "code",
   "execution_count": 54,
   "id": "4af83364",
   "metadata": {},
   "outputs": [],
   "source": [
    "df_predicts = rdd \\\n",
    "    .mapPartitions(time_prediction)\\\n",
    "    .toDF()"
   ]
  },
  {
   "cell_type": "code",
   "execution_count": 55,
   "id": "69e35480",
   "metadata": {},
   "outputs": [
    {
     "name": "stdout",
     "output_type": "stream",
     "text": [
      "+-----+--------+--------------------+------------+------------+-------------+--------------------+-------+\n",
      "|Index|VendorID|lpep_pickup_datetime|PULocationID|DOLocationID|trip_distance|time_taxi_prediction|trip_km|\n",
      "+-----+--------+--------------------+------------+------------+-------------+--------------------+-------+\n",
      "|    0|     2.0|                  {}|          43|         151|         1.01|                5.05|  1.625|\n",
      "|    1|     2.0|                  {}|         166|         239|         2.53|               12.65|  4.072|\n",
      "|    2|     2.0|                  {}|          41|          42|         1.12|                 5.6|  1.802|\n",
      "|    3|     2.0|                  {}|         168|          75|         1.99|                9.95|  3.203|\n",
      "|    4|     2.0|                  {}|         265|         265|          0.0|                 0.0|    0.0|\n",
      "|    5|     2.0|                  {}|         265|         265|          0.0|                 0.0|    0.0|\n",
      "|    6|     2.0|                  {}|         265|         265|          0.0|                 0.0|    0.0|\n",
      "|    7|     2.0|                  {}|          75|          75|         0.45|                2.25|  0.724|\n",
      "|    8|     2.0|                  {}|         225|         225|          0.0|                 0.0|    0.0|\n",
      "|    9|     2.0|                  {}|         225|         265|        12.19|               60.95| 19.618|\n",
      "|   10|     2.0|                  {}|         244|         244|         3.39|               16.95|  5.456|\n",
      "|   11|     2.0|                  {}|          75|         213|         6.69|               33.45| 10.767|\n",
      "|   12|     2.0|                  {}|          74|         238|         2.34|                11.7|  3.766|\n",
      "|   13|     2.0|                  {}|          74|          60|         5.48|                27.4|  8.819|\n",
      "|   14|     1.0|                  {}|          42|          41|          0.9|                 4.5|  1.448|\n",
      "|   15|     2.0|                  {}|          42|         264|          0.0|                 0.0|    0.0|\n",
      "|   16|     2.0|                  {}|          74|         116|         2.08|                10.4|  3.347|\n",
      "|   17|     2.0|                  {}|         116|         143|         4.64|                23.2|  7.467|\n",
      "|   18|     2.0|                  {}|          75|          42|         1.68|                 8.4|  2.704|\n",
      "|   19|     2.0|                  {}|          74|          75|         0.68|                 3.4|  1.094|\n",
      "+-----+--------+--------------------+------------+------------+-------------+--------------------+-------+\n",
      "only showing top 20 rows\n",
      "\n",
      "+-------+--------------------+\n",
      "|trip_km|time_taxi_prediction|\n",
      "+-------+--------------------+\n",
      "|  1.625|                5.05|\n",
      "|  4.072|               12.65|\n",
      "|  1.802|                 5.6|\n",
      "|  3.203|                9.95|\n",
      "|    0.0|                 0.0|\n",
      "|    0.0|                 0.0|\n",
      "|    0.0|                 0.0|\n",
      "|  0.724|                2.25|\n",
      "|    0.0|                 0.0|\n",
      "| 19.618|               60.95|\n",
      "|  5.456|               16.95|\n",
      "| 10.767|               33.45|\n",
      "|  3.766|                11.7|\n",
      "|  8.819|                27.4|\n",
      "|  1.448|                 4.5|\n",
      "|    0.0|                 0.0|\n",
      "|  3.347|                10.4|\n",
      "|  7.467|                23.2|\n",
      "|  2.704|                 8.4|\n",
      "|  1.094|                 3.4|\n",
      "+-------+--------------------+\n",
      "only showing top 20 rows\n",
      "\n"
     ]
    }
   ],
   "source": [
    "df_predicts.show()\n",
    "df_predicts.select('trip_km','time_taxi_prediction').show()"
   ]
  }
 ],
 "metadata": {
  "kernelspec": {
   "display_name": "Python 3 (ipykernel)",
   "language": "python",
   "name": "python3"
  },
  "language_info": {
   "codemirror_mode": {
    "name": "ipython",
    "version": 3
   },
   "file_extension": ".py",
   "mimetype": "text/x-python",
   "name": "python",
   "nbconvert_exporter": "python",
   "pygments_lexer": "ipython3",
   "version": "3.10.9"
  }
 },
 "nbformat": 4,
 "nbformat_minor": 5
}
